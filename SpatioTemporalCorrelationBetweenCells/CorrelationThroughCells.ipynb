{
 "cells": [
  {
   "cell_type": "code",
   "execution_count": 1,
   "metadata": {},
   "outputs": [],
   "source": [
    "import pandas as pd \n",
    "import numpy as np \n",
    "import matplotlib.pyplot as plt \n",
    "import warnings\n",
    "import datetime\n",
    "import geopandas as gpd\n",
    "import folium\n",
    "import time\n",
    "import my_code\n",
    "warnings.filterwarnings('ignore')\n",
    "\n",
    "import seaborn as sns"
   ]
  },
  {
   "cell_type": "code",
   "execution_count": 2,
   "metadata": {},
   "outputs": [
    {
     "data": {
      "text/html": [
       "<div>\n",
       "<style scoped>\n",
       "    .dataframe tbody tr th:only-of-type {\n",
       "        vertical-align: middle;\n",
       "    }\n",
       "\n",
       "    .dataframe tbody tr th {\n",
       "        vertical-align: top;\n",
       "    }\n",
       "\n",
       "    .dataframe thead th {\n",
       "        text-align: right;\n",
       "    }\n",
       "</style>\n",
       "<table border=\"1\" class=\"dataframe\">\n",
       "  <thead>\n",
       "    <tr style=\"text-align: right;\">\n",
       "      <th></th>\n",
       "      <th>date</th>\n",
       "      <th>cell_num</th>\n",
       "      <th>nr_people</th>\n",
       "      <th>hours</th>\n",
       "      <th>minutes</th>\n",
       "    </tr>\n",
       "  </thead>\n",
       "  <tbody>\n",
       "    <tr>\n",
       "      <td>0</td>\n",
       "      <td>2017-04-16</td>\n",
       "      <td>389-1015</td>\n",
       "      <td>361.0</td>\n",
       "      <td>0.0</td>\n",
       "      <td>0.0</td>\n",
       "    </tr>\n",
       "    <tr>\n",
       "      <td>1353</td>\n",
       "      <td>2017-04-16</td>\n",
       "      <td>389-1015</td>\n",
       "      <td>367.0</td>\n",
       "      <td>0.0</td>\n",
       "      <td>15.0</td>\n",
       "    </tr>\n",
       "    <tr>\n",
       "      <td>2706</td>\n",
       "      <td>2017-04-16</td>\n",
       "      <td>389-1015</td>\n",
       "      <td>359.0</td>\n",
       "      <td>0.0</td>\n",
       "      <td>30.0</td>\n",
       "    </tr>\n",
       "    <tr>\n",
       "      <td>4059</td>\n",
       "      <td>2017-04-16</td>\n",
       "      <td>389-1015</td>\n",
       "      <td>354.0</td>\n",
       "      <td>0.0</td>\n",
       "      <td>45.0</td>\n",
       "    </tr>\n",
       "    <tr>\n",
       "      <td>5412</td>\n",
       "      <td>2017-04-16</td>\n",
       "      <td>389-1015</td>\n",
       "      <td>350.0</td>\n",
       "      <td>1.0</td>\n",
       "      <td>0.0</td>\n",
       "    </tr>\n",
       "    <tr>\n",
       "      <td>...</td>\n",
       "      <td>...</td>\n",
       "      <td>...</td>\n",
       "      <td>...</td>\n",
       "      <td>...</td>\n",
       "      <td>...</td>\n",
       "    </tr>\n",
       "    <tr>\n",
       "      <td>15970811</td>\n",
       "      <td>2017-08-16</td>\n",
       "      <td>421-1055</td>\n",
       "      <td>17.0</td>\n",
       "      <td>22.0</td>\n",
       "      <td>45.0</td>\n",
       "    </tr>\n",
       "    <tr>\n",
       "      <td>15972164</td>\n",
       "      <td>2017-08-16</td>\n",
       "      <td>421-1055</td>\n",
       "      <td>17.0</td>\n",
       "      <td>23.0</td>\n",
       "      <td>0.0</td>\n",
       "    </tr>\n",
       "    <tr>\n",
       "      <td>15973517</td>\n",
       "      <td>2017-08-16</td>\n",
       "      <td>421-1055</td>\n",
       "      <td>17.0</td>\n",
       "      <td>23.0</td>\n",
       "      <td>15.0</td>\n",
       "    </tr>\n",
       "    <tr>\n",
       "      <td>15974870</td>\n",
       "      <td>2017-08-16</td>\n",
       "      <td>421-1055</td>\n",
       "      <td>18.0</td>\n",
       "      <td>23.0</td>\n",
       "      <td>30.0</td>\n",
       "    </tr>\n",
       "    <tr>\n",
       "      <td>15976223</td>\n",
       "      <td>2017-08-16</td>\n",
       "      <td>421-1055</td>\n",
       "      <td>18.0</td>\n",
       "      <td>23.0</td>\n",
       "      <td>45.0</td>\n",
       "    </tr>\n",
       "  </tbody>\n",
       "</table>\n",
       "<p>15976224 rows × 5 columns</p>\n",
       "</div>"
      ],
      "text/plain": [
       "                date  cell_num  nr_people  hours  minutes\n",
       "0         2017-04-16  389-1015      361.0    0.0      0.0\n",
       "1353      2017-04-16  389-1015      367.0    0.0     15.0\n",
       "2706      2017-04-16  389-1015      359.0    0.0     30.0\n",
       "4059      2017-04-16  389-1015      354.0    0.0     45.0\n",
       "5412      2017-04-16  389-1015      350.0    1.0      0.0\n",
       "...              ...       ...        ...    ...      ...\n",
       "15970811  2017-08-16  421-1055       17.0   22.0     45.0\n",
       "15972164  2017-08-16  421-1055       17.0   23.0      0.0\n",
       "15973517  2017-08-16  421-1055       17.0   23.0     15.0\n",
       "15974870  2017-08-16  421-1055       18.0   23.0     30.0\n",
       "15976223  2017-08-16  421-1055       18.0   23.0     45.0\n",
       "\n",
       "[15976224 rows x 5 columns]"
      ]
     },
     "execution_count": 2,
     "metadata": {},
     "output_type": "execute_result"
    }
   ],
   "source": [
    "data = pd.read_csv('/Users/alket/Desktop/dati/new_data2_Modena_backfill_forwfill.csv',index_col = 0, parse_dates=True)\n",
    "data"
   ]
  },
  {
   "cell_type": "code",
   "execution_count": 4,
   "metadata": {},
   "outputs": [],
   "source": [
    "agg_by_cell = data.groupby(['cell_num'])"
   ]
  },
  {
   "cell_type": "code",
   "execution_count": 6,
   "metadata": {},
   "outputs": [
    {
     "name": "stdout",
     "output_type": "stream",
     "text": [
      "389-1015                 date  cell_num  nr_people  hours  minutes\n",
      "0         2017-04-16  389-1015      361.0    0.0      0.0\n",
      "1353      2017-04-16  389-1015      367.0    0.0     15.0\n",
      "2706      2017-04-16  389-1015      359.0    0.0     30.0\n",
      "4059      2017-04-16  389-1015      354.0    0.0     45.0\n",
      "5412      2017-04-16  389-1015      350.0    1.0      0.0\n",
      "...              ...       ...        ...    ...      ...\n",
      "15969459  2017-08-16  389-1015      269.0   22.0     45.0\n",
      "15970812  2017-08-16  389-1015      268.0   23.0      0.0\n",
      "15972165  2017-08-16  389-1015      271.0   23.0     15.0\n",
      "15973518  2017-08-16  389-1015      266.0   23.0     30.0\n",
      "15974871  2017-08-16  389-1015      266.0   23.0     45.0\n",
      "\n",
      "[11808 rows x 5 columns]\n",
      "389-1016                 date  cell_num  nr_people  hours  minutes\n",
      "1         2017-04-16  389-1016      188.0    0.0      0.0\n",
      "1354      2017-04-16  389-1016      191.0    0.0     15.0\n",
      "2707      2017-04-16  389-1016      186.0    0.0     30.0\n",
      "4060      2017-04-16  389-1016      185.0    0.0     45.0\n",
      "5413      2017-04-16  389-1016      182.0    1.0      0.0\n",
      "...              ...       ...        ...    ...      ...\n",
      "15969460  2017-08-16  389-1016      141.0   22.0     45.0\n",
      "15970813  2017-08-16  389-1016      140.0   23.0      0.0\n",
      "15972166  2017-08-16  389-1016      141.0   23.0     15.0\n",
      "15973519  2017-08-16  389-1016      138.0   23.0     30.0\n",
      "15974872  2017-08-16  389-1016      138.0   23.0     45.0\n",
      "\n",
      "[11808 rows x 5 columns]\n"
     ]
    }
   ],
   "source": [
    "counter = 0\n",
    "for i, k in agg_by_cell: \n",
    "    print(i, k)\n",
    "    counter += 1\n",
    "    if counter > 1 : break"
   ]
  },
  {
   "cell_type": "code",
   "execution_count": 57,
   "metadata": {},
   "outputs": [],
   "source": [
    "def get_corr_adiacent_cells(cell, index):\n",
    "    counter = 0\n",
    "    adiacent_cells = []\n",
    "    s = cell.split('-')\n",
    "    row = int(s[0])\n",
    "    col = int(s[1])\n",
    "    rowup = row+index\n",
    "    rowdown = row-index\n",
    "    coldes = col+index\n",
    "    colsin = col-index\n",
    "    cell1 = str(row)+'-'+str(coldes)\n",
    "    cell2 = str(row)+'-'+str(colsin)\n",
    "    cell3 = str(rowup)+'-'+str(col)\n",
    "    cell4 = str(rowdown)+'-'+str(col)\n",
    "    \n",
    "    cell5 = str(rowup)+'-'+str(coldes)\n",
    "    cell6 = str(rowup)+'-'+str(colsin)\n",
    "    cell7 = str(rowdown)+'-'+str(coldes)\n",
    "    cell8 = str(rowdown)+'-'+str(colsin)\n",
    "    adiacent_cells.extend([cell1, cell2, cell3, cell4, cell5, cell6, cell7, cell8])\n",
    "        \n",
    "    return adiacent_cells"
   ]
  },
  {
   "cell_type": "code",
   "execution_count": 92,
   "metadata": {},
   "outputs": [],
   "source": [
    "cells2be_correlated = ['400-1035', '400-1036', '400-1037', '400-1028', '400-1029', '400-1032',\n",
    "                       '401-1035', '401-1038', '401-1041', '401-1033', '401-1029', '401-1032',\n",
    "                       '402-1043', '402-1039', '402-1033', '402-1035', '402-1037', '402-1031',\n",
    "                       '403-1043', '403-1031', '403-1034', '403-1036', '403-1037', '403-1039',\n",
    "                       '404-1036', '404-1037', '404-1038', '404-1040', '404-1042', '404-1035',\n",
    "                       '409-1036', '409-1037', '409-1038', '409-1040', '409-1042', '409-1035',\n",
    "                       '408-1036', '408-1037', '408-1038', '408-1040', '408-1042', '408-1035',\n",
    "                       '407-1035', '407-1037', '407-1039', '407-1041', '407-1042', '407-1036',\n",
    "                       '405-1031', '405-1032', '405-1034', '405-1036', '405-1038', '405-1042',\n",
    "                       '406-1034', '406-1031', '406-1033', '406-1035', '406-1039', '406-1040']"
   ]
  },
  {
   "cell_type": "code",
   "execution_count": 125,
   "metadata": {
    "scrolled": true
   },
   "outputs": [
    {
     "name": "stdout",
     "output_type": "stream",
     "text": [
      "1 0.9701522647476649\n",
      "2 0.9237037160615446\n",
      "3 0.8836346044349798\n",
      "4 0.8477324580198012\n",
      "5 0.8196081358792321\n",
      "6 0.7959854312765725\n",
      "7 0.779902662386909\n",
      "8 0.7562641819942427\n",
      "9 0.7295993042112288\n",
      "10 0.7241232679837538\n",
      "11 0.7088450238790592\n",
      "12 0.7125188949799237\n"
     ]
    }
   ],
   "source": [
    "data2dict = {}\n",
    "for num in range(12):\n",
    "    num = num+1\n",
    "    #print('step = ', num)\n",
    "    cell2mean = []\n",
    "    for cell2c in cells2be_correlated:\n",
    "        try:\n",
    "            adiacent_cells = get_corr_adiacent_cells(cell2c, num)\n",
    "        except:\n",
    "            'KeyError'\n",
    "        corrlist = []\n",
    "        try: \n",
    "            cell_itself = agg_by_cell.get_group(cell2c)\n",
    "        except: \n",
    "            'KeyError'\n",
    "        corrlist.append(cell_itself['nr_people'].values)\n",
    "        for i in adiacent_cells: \n",
    "            try: \n",
    "                cell_i = agg_by_cell.get_group(i)\n",
    "                cell_i = cell_i['nr_people'].values\n",
    "                corrlist.append(cell_i)\n",
    "            except: \n",
    "                'KeyError'\n",
    "        corr = np.array(corrlist)\n",
    "        corr_matrix = np.corrcoef(corr)\n",
    "        mean = np.median(corr_matrix)\n",
    "        cell2mean.append(mean)\n",
    "    print(num , np.mean(np.array(cell2mean)))\n",
    "    data2dict[num] = np.mean(np.array(cell2mean))"
   ]
  },
  {
   "cell_type": "code",
   "execution_count": 126,
   "metadata": {},
   "outputs": [
    {
     "data": {
      "image/png": "[encoded data removed]",
      "text/plain": [
       "<Figure size 1080x288 with 1 Axes>"
      ]
     },
     "metadata": {
      "needs_background": "light"
     },
     "output_type": "display_data"
    }
   ],
   "source": [
    "a_dictionary = {\"a\": 1, \"b\": 2, \"c\": 3}\n",
    "keys = data2dict.keys()\n",
    "values = data2dict.values()\n",
    "\n",
    "plt.figure(figsize = (15,4))\n",
    "plt.bar(keys, values)\n",
    "plt.show()"
   ]
  },
  {
   "cell_type": "code",
   "execution_count": 129,
   "metadata": {
    "scrolled": false
   },
   "outputs": [
    {
     "name": "stdout",
     "output_type": "stream",
     "text": [
      "1 0.5959636424945018\n",
      "2 0.33681806281841\n",
      "3 0.2592635777422126\n",
      "4 0.19234370827283417\n",
      "5 0.1673162057814244\n",
      "6 0.1669594521820894\n",
      "7 0.16569644353278548\n",
      "8 0.13312477208219792\n",
      "9 0.12702198931897352\n",
      "10 0.12362802728248097\n",
      "11 0.10930625254369519\n",
      "12 0.14010193902918983\n"
     ]
    }
   ],
   "source": [
    "data2dict = {}\n",
    "for num in range(12):\n",
    "    num = num+1\n",
    "    #print('step ', num)\n",
    "    for cell2c in cells2be_correlated:\n",
    "        mean2step = []\n",
    "        try:\n",
    "            adiacent_cells = get_corr_adiacent_cells(cell2c, num)\n",
    "        except:\n",
    "            'KeyError'\n",
    "        corrlist = []\n",
    "        try: \n",
    "            cell_itself = agg_by_cell.get_group(cell2c)\n",
    "        except: \n",
    "            'KeyError'\n",
    "            cell_itself = cell_itself['nr_people'].pct_change().values\n",
    "            cell_itself = cell_itself[1:]\n",
    "            corrlist.append()\n",
    "        for i in adiacent_cells: \n",
    "            try: \n",
    "                cell_i = agg_by_cell.get_group(i)\n",
    "                cell_i = cell_i['nr_people'].pct_change().values\n",
    "                cell_i = cell_i[1:]\n",
    "                #print(cell_i)\n",
    "                corrlist.append(cell_i)\n",
    "            except: \n",
    "                'KeyError'\n",
    "        corr = np.array(corrlist)\n",
    "        corr_matrix = np.corrcoef(corr)\n",
    "        mean = np.mean(corr_matrix)\n",
    "        \n",
    "        mean2step.append(mean)\n",
    "    print(num, np.mean(np.array(mean2step))) \n",
    "    data2dict[num] = np.mean(np.array(mean2step))"
   ]
  },
  {
   "cell_type": "code",
   "execution_count": 130,
   "metadata": {},
   "outputs": [
    {
     "data": {
      "image/png": "[encoded data removed]",
      "text/plain": [
       "<Figure size 1080x288 with 1 Axes>"
      ]
     },
     "metadata": {
      "needs_background": "light"
     },
     "output_type": "display_data"
    }
   ],
   "source": [
    "keys = data2dict.keys()\n",
    "values = data2dict.values()\n",
    "\n",
    "plt.figure(figsize = (15,4))\n",
    "plt.bar(keys, values)\n",
    "plt.show()"
   ]
  },
  {
   "cell_type": "code",
   "execution_count": null,
   "metadata": {},
   "outputs": [],
   "source": []
  },
  {
   "cell_type": "code",
   "execution_count": null,
   "metadata": {},
   "outputs": [],
   "source": []
  },
  {
   "cell_type": "code",
   "execution_count": null,
   "metadata": {},
   "outputs": [],
   "source": []
  },
  {
   "cell_type": "code",
   "execution_count": null,
   "metadata": {},
   "outputs": [],
   "source": []
  },
  {
   "cell_type": "code",
   "execution_count": null,
   "metadata": {},
   "outputs": [],
   "source": []
  }
 ],
 "metadata": {
  "kernelspec": {
   "display_name": "Python 3",
   "language": "python",
   "name": "python3"
  },
  "language_info": {
   "codemirror_mode": {
    "name": "ipython",
    "version": 3
   },
   "file_extension": ".py",
   "mimetype": "text/x-python",
   "name": "python",
   "nbconvert_exporter": "python",
   "pygments_lexer": "ipython3",
   "version": "3.7.4"
  }
 },
 "nbformat": 4,
 "nbformat_minor": 2
}
