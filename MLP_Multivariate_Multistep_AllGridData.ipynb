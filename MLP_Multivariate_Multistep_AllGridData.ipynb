{
 "cells": [
  {
   "cell_type": "code",
   "execution_count": 16,
   "metadata": {},
   "outputs": [],
   "source": [
    "import pandas as pd\n",
    "import numpy as np\n",
    "import matplotlib.pyplot as plt\n",
    "import datetime\n",
    "import time\n",
    "from pandas.plotting import lag_plot\n",
    "from pandas.plotting import autocorrelation_plot\n",
    "from sklearn.metrics import mean_absolute_error\n",
    "from sklearn.metrics import mean_squared_error \n",
    "from math import sqrt\n",
    "from numpy import hstack\n",
    "from keras.models import Sequential\n",
    "from keras.layers import LSTM\n",
    "from keras.layers import Dense\n",
    "from keras.layers import Flatten\n",
    "from keras.layers.convolutional import Conv1D\n",
    "from keras.layers.convolutional import MaxPooling1D\n",
    "import warnings \n",
    "warnings.filterwarnings('ignore')\n",
    "from sklearn.model_selection import train_test_split\n",
    "from keras import metrics\n",
    "\n",
    "#data = pd.read_csv('/Users/alket/Desktop/dati/new_data_backfill_forwfill.csv',index_col = 0)\n",
    "data = pd.read_csv('/Users/alket/Desktop/dati/new_data_Modena_backfill_forwfill.csv',index_col = 0)\n",
    "\n",
    "# preparazione dati per due celle\n",
    "agg_by_cell = data.groupby(by = ['cell_num'])"
   ]
  },
  {
   "cell_type": "code",
   "execution_count": 17,
   "metadata": {},
   "outputs": [],
   "source": [
    "num_data = []\n",
    "## prepare dataset\n",
    "for i, k in agg_by_cell:\n",
    "    cell_i = agg_by_cell.get_group(i)\n",
    "    cell_i = cell_i.iloc[::4,:]\n",
    "    # define input sequence\n",
    "    series_i = cell_i['nr_people'].values\n",
    "    series_i = series_i.reshape((len(series_i), 1))\n",
    "    num_data.append(series_i)"
   ]
  },
  {
   "cell_type": "code",
   "execution_count": 18,
   "metadata": {},
   "outputs": [
    {
     "name": "stdout",
     "output_type": "stream",
     "text": [
      "[[361.]\n",
      " [350.]\n",
      " [353.]\n",
      " ...\n",
      " [263.]\n",
      " [265.]\n",
      " [268.]]\n",
      "2\n"
     ]
    }
   ],
   "source": [
    "print(num_data[:2][0])\n",
    "print(len(num_data[:2]))"
   ]
  },
  {
   "cell_type": "code",
   "execution_count": 19,
   "metadata": {},
   "outputs": [
    {
     "data": {
      "text/plain": [
       "(2952, 1353)"
      ]
     },
     "execution_count": 19,
     "metadata": {},
     "output_type": "execute_result"
    }
   ],
   "source": [
    "final_data = hstack((num_data))\n",
    "final_data.shape"
   ]
  },
  {
   "cell_type": "code",
   "execution_count": 20,
   "metadata": {},
   "outputs": [
    {
     "name": "stdout",
     "output_type": "stream",
     "text": [
      "inizia iterazione  0\n",
      "[[361. 188. 336. ...  63.  57.  23.]\n",
      " [350. 182. 328. ...  65.  58.  24.]\n",
      " [353. 184. 329. ...  65.  58.  24.]\n",
      " ...\n",
      " [329. 175. 311. ...  62.  55.  22.]\n",
      " [334. 175. 308. ...  63.  56.  23.]\n",
      " [339. 176. 314. ...  62.  56.  22.]] [[350. 183. 322. ...  62.  56.  23.]\n",
      " [355. 184. 324. ...  62.  55.  23.]\n",
      " [354. 183. 325. ...  61.  55.  23.]\n",
      " ...\n",
      " [336. 175. 309. ...  60.  54.  22.]\n",
      " [324. 170. 301. ...  59.  54.  22.]\n",
      " [318. 167. 294. ...  59.  53.  22.]]\n",
      "inizia iterazione  1\n",
      "[[350. 182. 328. ...  65.  58.  24.]\n",
      " [353. 184. 329. ...  65.  58.  24.]\n",
      " [351. 182. 321. ...  65.  58.  24.]\n",
      " ...\n",
      " [334. 175. 308. ...  63.  56.  23.]\n",
      " [339. 176. 314. ...  62.  56.  22.]\n",
      " [350. 183. 322. ...  62.  56.  23.]] [[355. 184. 324. ...  62.  55.  23.]\n",
      " [354. 183. 325. ...  61.  55.  23.]\n",
      " [347. 179. 317. ...  61.  55.  22.]\n",
      " ...\n",
      " [324. 170. 301. ...  59.  54.  22.]\n",
      " [318. 167. 294. ...  59.  53.  22.]\n",
      " [311. 163. 289. ...  59.  54.  22.]]\n"
     ]
    }
   ],
   "source": [
    "# split a multivariate sequence into samples\n",
    "def split_sequences(sequences, n_steps_in, n_steps_out):\n",
    "  X, y = list(), list()\n",
    "  for i in range(len(sequences)):\n",
    "      # find the end of this pattern\n",
    "      end_ix = i + n_steps_in\n",
    "      out_end_ix = end_ix + n_steps_out\n",
    "      # check if we are beyond the dataset\n",
    "      if out_end_ix > len(sequences):\n",
    "          break\n",
    "      # gather input and output parts of the pattern\n",
    "      seq_x, seq_y = sequences[i:end_ix, :], sequences[end_ix:out_end_ix, :]\n",
    "      X.append(seq_x)\n",
    "      y.append(seq_y)\n",
    "  return np.array(X), np.array(y)\n",
    "\n",
    "# choose a number of time steps\n",
    "n_steps_in, n_steps_out = 24, 8\n",
    "\n",
    "# convert into input/output\n",
    "X, y = split_sequences(final_data, n_steps_in, n_steps_out)\n",
    "\n",
    "count = 0\n",
    "for i in range(len(X)):\n",
    "    count += 1\n",
    "    print('inizia iterazione ', i)\n",
    "    print(X[i], y[i])\n",
    "    if count > 1: break\n",
    "# flatten input\n",
    "n_input = X.shape[1] * X.shape[2]\n",
    "X = X.reshape((X.shape[0], n_input))\n",
    "\n",
    "# flatten output\n",
    "n_output = y.shape[1] * y.shape[2]\n",
    "y = y.reshape((y.shape[0], n_output))"
   ]
  },
  {
   "cell_type": "code",
   "execution_count": 21,
   "metadata": {},
   "outputs": [
    {
     "name": "stdout",
     "output_type": "stream",
     "text": [
      "2190 2190 731 731\n"
     ]
    }
   ],
   "source": [
    "#train_X, test_X, train_y, test_y = train_test_split(X, y, test_size=0.3, random_state=1)\n",
    "#train_X, val_X, train_y, val_y = train_test_split(train_X, train_y, test_size=0.3, random_state=1)\n",
    "#print(len(train_X), len(train_y), len(test_X), len(test_y), len(val_X), len(val_y))\n",
    "split_train_test = int(len(X)*0.75)\n",
    "train_X, test_X = X[:split_train_test], X[split_train_test:]\n",
    "train_y, test_y = y[:split_train_test], y[split_train_test:]\n",
    "print(len(train_X), len(train_y), len(test_X), len(test_y))"
   ]
  },
  {
   "cell_type": "code",
   "execution_count": 22,
   "metadata": {},
   "outputs": [
    {
     "name": "stdout",
     "output_type": "stream",
     "text": [
      "361.0\n",
      "350.0\n",
      "353.0\n",
      "351.0\n",
      "339.0\n",
      "333.0\n",
      "329.0\n",
      "331.0\n",
      "324.0\n",
      "315.0\n",
      "319.0\n",
      "315.0\n",
      "313.0\n",
      "305.0\n",
      "302.0\n",
      "297.0\n",
      "299.0\n",
      "302.0\n",
      "312.0\n",
      "305.0\n",
      "322.0\n",
      "329.0\n",
      "334.0\n",
      "339.0\n",
      "350.0\n",
      "355.0\n",
      "354.0\n",
      "347.0\n",
      "336.0\n",
      "336.0\n",
      "324.0\n",
      "318.0\n",
      "311.0\n",
      "306.0\n",
      "313.0\n",
      "298.0\n",
      "296.0\n",
      "294.0\n",
      "303.0\n",
      "301.0\n",
      "302.0\n",
      "308.0\n",
      "316.0\n",
      "322.0\n",
      "326.0\n",
      "334.0\n",
      "340.0\n",
      "347.0\n",
      "351.0\n",
      "356.0\n",
      "350.0\n",
      "350.0\n",
      "348.0\n",
      "346.0\n",
      "353.0\n",
      "354.0\n",
      "416.0\n",
      "498.0\n",
      "534.0\n",
      "532.0\n",
      "541.0\n",
      "522.0\n",
      "514.0\n",
      "541.0\n",
      "530.0\n",
      "540.0\n",
      "484.0\n",
      "446.0\n",
      "404.0\n",
      "385.0\n",
      "391.0\n",
      "393.0\n",
      "391.0\n",
      "384.0\n",
      "381.0\n",
      "377.0\n",
      "381.0\n",
      "378.0\n",
      "370.0\n",
      "371.0\n",
      "389.0\n",
      "438.0\n",
      "553.0\n",
      "553.0\n",
      "553.0\n",
      "569.0\n",
      "551.0\n",
      "554.0\n",
      "560.0\n",
      "556.0\n",
      "505.0\n",
      "461.0\n",
      "404.0\n",
      "391.0\n",
      "385.0\n",
      "376.0\n",
      "378.0\n",
      "374.0\n",
      "374.0\n",
      "371.0\n",
      "373.0\n",
      "371.0\n",
      "365.0\n",
      "371.0\n",
      "426.0\n",
      "508.0\n",
      "540.0\n",
      "555.0\n",
      "551.0\n",
      "537.0\n",
      "518.0\n",
      "527.0\n",
      "535.0\n",
      "556.0\n",
      "541.0\n",
      "481.0\n",
      "427.0\n",
      "419.0\n",
      "406.0\n",
      "396.0\n",
      "392.0\n",
      "390.0\n",
      "383.0\n",
      "378.0\n",
      "378.0\n",
      "375.0\n",
      "363.0\n",
      "366.0\n",
      "420.0\n",
      "494.0\n",
      "548.0\n",
      "541.0\n",
      "547.0\n",
      "543.0\n",
      "512.0\n",
      "531.0\n",
      "526.0\n",
      "526.0\n",
      "486.0\n",
      "457.0\n",
      "400.0\n",
      "399.0\n",
      "409.0\n",
      "412.0\n",
      "415.0\n",
      "415.0\n",
      "396.0\n",
      "382.0\n",
      "369.0\n",
      "364.0\n",
      "362.0\n",
      "363.0\n",
      "365.0\n",
      "373.0\n",
      "368.0\n",
      "378.0\n",
      "371.0\n",
      "362.0\n",
      "339.0\n",
      "338.0\n",
      "337.0\n",
      "344.0\n",
      "340.0\n",
      "348.0\n",
      "343.0\n",
      "353.0\n",
      "366.0\n",
      "374.0\n",
      "373.0\n",
      "375.0\n",
      "374.0\n",
      "366.0\n",
      "368.0\n",
      "353.0\n",
      "352.0\n",
      "345.0\n",
      "335.0\n",
      "320.0\n",
      "319.0\n",
      "315.0\n",
      "320.0\n",
      "301.0\n",
      "303.0\n",
      "307.0\n",
      "311.0\n",
      "315.0\n",
      "326.0\n",
      "339.0\n",
      "340.0\n",
      "341.0\n",
      "349.0\n",
      "352.0\n",
      "354.0\n",
      "364.0\n",
      "367.0\n",
      "362.0\n",
      "350.0\n",
      "349.0\n",
      "349.0\n",
      "357.0\n",
      "365.0\n",
      "374.0\n",
      "384.0\n",
      "386.0\n",
      "381.0\n",
      "370.0\n",
      "368.0\n",
      "371.0\n",
      "364.0\n",
      "380.0\n",
      "385.0\n",
      "373.0\n",
      "369.0\n",
      "371.0\n",
      "376.0\n",
      "373.0\n",
      "375.0\n",
      "372.0\n",
      "368.0\n",
      "365.0\n"
     ]
    }
   ],
   "source": [
    "for i in range(220):\n",
    "    print(final_data[i][0])"
   ]
  },
  {
   "cell_type": "code",
   "execution_count": 23,
   "metadata": {},
   "outputs": [
    {
     "data": {
      "text/plain": [
       "2190"
      ]
     },
     "execution_count": 23,
     "metadata": {},
     "output_type": "execute_result"
    }
   ],
   "source": [
    "len(train_X)"
   ]
  },
  {
   "cell_type": "code",
   "execution_count": 24,
   "metadata": {},
   "outputs": [
    {
     "data": {
      "text/plain": [
       "(2952, 1353)"
      ]
     },
     "execution_count": 24,
     "metadata": {},
     "output_type": "execute_result"
    }
   ],
   "source": [
    "final_data.shape"
   ]
  },
  {
   "cell_type": "code",
   "execution_count": 25,
   "metadata": {
    "scrolled": true
   },
   "outputs": [
    {
     "name": "stdout",
     "output_type": "stream",
     "text": [
      "Epoch 1/100\n",
      "69/69 - 5s - loss: 103066.0391 - mean_absolute_error: 99.6899 - accuracy: 0.0498\n",
      "Epoch 2/100\n",
      "69/69 - 6s - loss: 72831.0312 - mean_absolute_error: 67.5627 - accuracy: 0.0863\n",
      "Epoch 3/100\n",
      "69/69 - 6s - loss: 43304.3242 - mean_absolute_error: 53.7062 - accuracy: 0.0982\n",
      "Epoch 4/100\n",
      "69/69 - 6s - loss: 34361.3867 - mean_absolute_error: 57.3680 - accuracy: 0.0826\n",
      "Epoch 5/100\n",
      "69/69 - 6s - loss: 23108.4355 - mean_absolute_error: 43.2388 - accuracy: 0.0968\n",
      "Epoch 6/100\n",
      "69/69 - 7s - loss: 42575.7344 - mean_absolute_error: 54.9905 - accuracy: 0.0804\n",
      "Epoch 7/100\n",
      "69/69 - 7s - loss: 19324.9609 - mean_absolute_error: 41.1219 - accuracy: 0.0913\n",
      "Epoch 8/100\n",
      "69/69 - 6s - loss: 20326.4961 - mean_absolute_error: 39.4112 - accuracy: 0.0890\n",
      "Epoch 9/100\n",
      "69/69 - 7s - loss: 20980.2695 - mean_absolute_error: 45.3429 - accuracy: 0.1251\n",
      "Epoch 10/100\n",
      "69/69 - 7s - loss: 27394.5762 - mean_absolute_error: 51.8666 - accuracy: 0.1027\n",
      "Epoch 11/100\n",
      "69/69 - 6s - loss: 15485.8887 - mean_absolute_error: 39.1250 - accuracy: 0.1132\n",
      "Epoch 12/100\n",
      "69/69 - 6s - loss: 15839.4941 - mean_absolute_error: 39.2237 - accuracy: 0.1110\n",
      "Epoch 13/100\n",
      "69/69 - 6s - loss: 13711.4678 - mean_absolute_error: 36.4804 - accuracy: 0.0968\n",
      "Epoch 14/100\n",
      "69/69 - 6s - loss: 17085.0488 - mean_absolute_error: 39.1689 - accuracy: 0.0822\n",
      "Epoch 15/100\n",
      "69/69 - 6s - loss: 11009.6670 - mean_absolute_error: 39.2278 - accuracy: 0.1288\n",
      "Epoch 16/100\n",
      "69/69 - 6s - loss: 10016.6172 - mean_absolute_error: 35.2403 - accuracy: 0.1297\n",
      "Epoch 17/100\n",
      "69/69 - 6s - loss: 7726.3799 - mean_absolute_error: 28.5725 - accuracy: 0.1836\n",
      "Epoch 18/100\n",
      "69/69 - 6s - loss: 9297.7500 - mean_absolute_error: 31.6005 - accuracy: 0.1653\n",
      "Epoch 19/100\n",
      "69/69 - 6s - loss: 14020.6309 - mean_absolute_error: 38.1941 - accuracy: 0.1845\n",
      "Epoch 20/100\n",
      "69/69 - 6s - loss: 8574.7422 - mean_absolute_error: 32.8507 - accuracy: 0.2269\n",
      "Epoch 21/100\n",
      "69/69 - 7s - loss: 21536.5117 - mean_absolute_error: 34.0233 - accuracy: 0.1913\n",
      "Epoch 22/100\n",
      "69/69 - 6s - loss: 20388.7148 - mean_absolute_error: 41.7860 - accuracy: 0.1420\n",
      "Epoch 23/100\n",
      "69/69 - 6s - loss: 9570.4580 - mean_absolute_error: 35.7610 - accuracy: 0.1142\n",
      "Epoch 24/100\n",
      "69/69 - 6s - loss: 11604.5381 - mean_absolute_error: 37.9425 - accuracy: 0.1635\n",
      "Epoch 25/100\n",
      "69/69 - 6s - loss: 9516.1533 - mean_absolute_error: 34.0266 - accuracy: 0.1178\n",
      "Epoch 26/100\n",
      "69/69 - 6s - loss: 9067.2910 - mean_absolute_error: 31.4357 - accuracy: 0.1498\n",
      "Epoch 27/100\n",
      "69/69 - 6s - loss: 5790.2583 - mean_absolute_error: 27.9433 - accuracy: 0.1717\n",
      "Epoch 28/100\n",
      "69/69 - 6s - loss: 7512.8008 - mean_absolute_error: 28.6663 - accuracy: 0.1735\n",
      "Epoch 29/100\n",
      "69/69 - 6s - loss: 7604.7202 - mean_absolute_error: 31.3192 - accuracy: 0.1753\n",
      "Epoch 30/100\n",
      "69/69 - 6s - loss: 9820.7783 - mean_absolute_error: 31.1957 - accuracy: 0.1708\n",
      "Epoch 31/100\n",
      "69/69 - 6s - loss: 8288.2090 - mean_absolute_error: 34.9317 - accuracy: 0.1749\n",
      "Epoch 32/100\n",
      "69/69 - 6s - loss: 5771.0308 - mean_absolute_error: 27.2576 - accuracy: 0.1790\n",
      "Epoch 33/100\n",
      "69/69 - 6s - loss: 22364.2285 - mean_absolute_error: 40.1393 - accuracy: 0.1434\n",
      "Epoch 34/100\n",
      "69/69 - 6s - loss: 9810.2773 - mean_absolute_error: 34.3597 - accuracy: 0.1804\n",
      "Epoch 35/100\n",
      "69/69 - 6s - loss: 6984.5410 - mean_absolute_error: 30.1958 - accuracy: 0.1817\n",
      "Epoch 36/100\n",
      "69/69 - 6s - loss: 6006.3594 - mean_absolute_error: 28.0605 - accuracy: 0.1758\n",
      "Epoch 37/100\n",
      "69/69 - 6s - loss: 5088.2979 - mean_absolute_error: 28.0443 - accuracy: 0.2014\n",
      "Epoch 38/100\n",
      "69/69 - 6s - loss: 5016.2290 - mean_absolute_error: 24.7925 - accuracy: 0.2137\n",
      "Epoch 39/100\n",
      "69/69 - 6s - loss: 4983.6299 - mean_absolute_error: 24.4793 - accuracy: 0.2096\n",
      "Epoch 40/100\n",
      "69/69 - 6s - loss: 11318.5654 - mean_absolute_error: 34.2420 - accuracy: 0.1982\n",
      "Epoch 41/100\n",
      "69/69 - 6s - loss: 6783.6333 - mean_absolute_error: 27.4062 - accuracy: 0.1963\n",
      "Epoch 42/100\n",
      "69/69 - 6s - loss: 5819.4604 - mean_absolute_error: 26.3564 - accuracy: 0.2032\n",
      "Epoch 43/100\n",
      "69/69 - 6s - loss: 6268.6602 - mean_absolute_error: 25.3974 - accuracy: 0.2142\n",
      "Epoch 44/100\n",
      "69/69 - 6s - loss: 4695.1724 - mean_absolute_error: 25.4017 - accuracy: 0.2447\n",
      "Epoch 45/100\n",
      "69/69 - 6s - loss: 9835.6553 - mean_absolute_error: 33.6085 - accuracy: 0.1995\n",
      "Epoch 46/100\n",
      "69/69 - 6s - loss: 7783.9634 - mean_absolute_error: 28.3374 - accuracy: 0.2292\n",
      "Epoch 47/100\n",
      "69/69 - 6s - loss: 13125.4551 - mean_absolute_error: 38.6011 - accuracy: 0.2105\n",
      "Epoch 48/100\n",
      "69/69 - 6s - loss: 31862.7988 - mean_absolute_error: 41.8769 - accuracy: 0.1539\n",
      "Epoch 49/100\n",
      "69/69 - 6s - loss: 17539.5801 - mean_absolute_error: 38.2800 - accuracy: 0.0881\n",
      "Epoch 50/100\n",
      "69/69 - 6s - loss: 9394.0059 - mean_absolute_error: 34.4190 - accuracy: 0.1575\n",
      "Epoch 51/100\n",
      "69/69 - 6s - loss: 7756.4346 - mean_absolute_error: 32.6427 - accuracy: 0.1457\n",
      "Epoch 52/100\n",
      "69/69 - 6s - loss: 6477.7139 - mean_absolute_error: 30.9052 - accuracy: 0.1187\n",
      "Epoch 53/100\n",
      "69/69 - 6s - loss: 5660.7969 - mean_absolute_error: 30.4812 - accuracy: 0.1393\n",
      "Epoch 54/100\n",
      "69/69 - 6s - loss: 4967.4399 - mean_absolute_error: 29.5978 - accuracy: 0.1037\n",
      "Epoch 55/100\n",
      "69/69 - 6s - loss: 5209.9922 - mean_absolute_error: 29.5901 - accuracy: 0.1009\n",
      "Epoch 56/100\n",
      "69/69 - 7s - loss: 5013.5151 - mean_absolute_error: 29.1298 - accuracy: 0.1288\n",
      "Epoch 57/100\n",
      "69/69 - 8s - loss: 16663.0898 - mean_absolute_error: 34.9228 - accuracy: 0.1388\n",
      "Epoch 58/100\n",
      "69/69 - 7s - loss: 8743.9697 - mean_absolute_error: 33.9768 - accuracy: 0.0973\n",
      "Epoch 59/100\n",
      "69/69 - 7s - loss: 11032.2021 - mean_absolute_error: 32.0193 - accuracy: 0.1342\n",
      "Epoch 60/100\n",
      "69/69 - 7s - loss: 8240.9424 - mean_absolute_error: 33.4275 - accuracy: 0.1114\n",
      "Epoch 61/100\n",
      "69/69 - 7s - loss: 4917.6211 - mean_absolute_error: 29.9604 - accuracy: 0.0717\n",
      "Epoch 62/100\n",
      "69/69 - 7s - loss: 5772.0312 - mean_absolute_error: 29.5617 - accuracy: 0.1205\n",
      "Epoch 63/100\n",
      "69/69 - 7s - loss: 5337.8062 - mean_absolute_error: 30.6949 - accuracy: 0.1763\n",
      "Epoch 64/100\n",
      "69/69 - 7s - loss: 4731.7539 - mean_absolute_error: 30.1561 - accuracy: 0.1187\n",
      "Epoch 65/100\n",
      "69/69 - 7s - loss: 4260.8828 - mean_absolute_error: 29.1048 - accuracy: 0.1210\n",
      "Epoch 66/100\n",
      "69/69 - 7s - loss: 4627.6504 - mean_absolute_error: 28.9169 - accuracy: 0.1895\n",
      "Epoch 67/100\n",
      "69/69 - 7s - loss: 3957.2949 - mean_absolute_error: 27.9136 - accuracy: 0.1913\n",
      "Epoch 68/100\n",
      "69/69 - 7s - loss: 11982.4004 - mean_absolute_error: 37.6613 - accuracy: 0.1712\n",
      "Epoch 69/100\n",
      "69/69 - 6s - loss: 8008.1880 - mean_absolute_error: 33.9780 - accuracy: 0.1155\n",
      "Epoch 70/100\n",
      "69/69 - 6s - loss: 6086.9043 - mean_absolute_error: 30.9215 - accuracy: 0.1183\n",
      "Epoch 71/100\n",
      "69/69 - 6s - loss: 11927.9463 - mean_absolute_error: 30.8387 - accuracy: 0.1370\n",
      "Epoch 72/100\n",
      "69/69 - 6s - loss: 9362.7227 - mean_absolute_error: 32.0538 - accuracy: 0.0941\n",
      "Epoch 73/100\n",
      "69/69 - 6s - loss: 13446.4961 - mean_absolute_error: 34.5530 - accuracy: 0.0795\n",
      "Epoch 74/100\n",
      "69/69 - 6s - loss: 18386.9258 - mean_absolute_error: 44.5198 - accuracy: 0.1151\n",
      "Epoch 75/100\n",
      "69/69 - 6s - loss: 7479.9692 - mean_absolute_error: 34.8421 - accuracy: 0.0918\n",
      "Epoch 76/100\n",
      "69/69 - 6s - loss: 5504.4072 - mean_absolute_error: 30.3706 - accuracy: 0.1813\n",
      "Epoch 77/100\n",
      "69/69 - 6s - loss: 7205.1440 - mean_absolute_error: 29.3141 - accuracy: 0.1959\n",
      "Epoch 78/100\n",
      "69/69 - 6s - loss: 4569.4116 - mean_absolute_error: 26.2929 - accuracy: 0.1767\n",
      "Epoch 79/100\n",
      "69/69 - 6s - loss: 4115.1025 - mean_absolute_error: 24.6124 - accuracy: 0.1699\n",
      "Epoch 80/100\n",
      "69/69 - 6s - loss: 4318.9370 - mean_absolute_error: 26.4953 - accuracy: 0.1616\n",
      "Epoch 81/100\n",
      "69/69 - 6s - loss: 7590.9932 - mean_absolute_error: 28.9809 - accuracy: 0.1758\n",
      "Epoch 82/100\n",
      "69/69 - 6s - loss: 5987.4302 - mean_absolute_error: 29.3775 - accuracy: 0.1630\n",
      "Epoch 83/100\n",
      "69/69 - 6s - loss: 6248.0713 - mean_absolute_error: 26.3455 - accuracy: 0.1580\n",
      "Epoch 84/100\n",
      "69/69 - 7s - loss: 5084.4033 - mean_absolute_error: 27.3281 - accuracy: 0.1598\n",
      "Epoch 85/100\n",
      "69/69 - 7s - loss: 4677.2075 - mean_absolute_error: 26.6292 - accuracy: 0.1594\n",
      "Epoch 86/100\n",
      "69/69 - 6s - loss: 3563.8308 - mean_absolute_error: 24.1283 - accuracy: 0.1772\n",
      "Epoch 87/100\n",
      "69/69 - 7s - loss: 3323.1768 - mean_absolute_error: 23.2036 - accuracy: 0.1708\n",
      "Epoch 88/100\n",
      "69/69 - 7s - loss: 4816.7305 - mean_absolute_error: 26.8921 - accuracy: 0.1735\n",
      "Epoch 89/100\n",
      "69/69 - 8s - loss: 4482.0039 - mean_absolute_error: 26.0824 - accuracy: 0.1740\n"
     ]
    },
    {
     "name": "stdout",
     "output_type": "stream",
     "text": [
      "Epoch 90/100\n",
      "69/69 - 6s - loss: 4803.6499 - mean_absolute_error: 25.1806 - accuracy: 0.1534\n",
      "Epoch 91/100\n",
      "69/69 - 7s - loss: 4022.0393 - mean_absolute_error: 23.5050 - accuracy: 0.1689\n",
      "Epoch 92/100\n",
      "69/69 - 6s - loss: 3576.8716 - mean_absolute_error: 23.3537 - accuracy: 0.1721\n",
      "Epoch 93/100\n",
      "69/69 - 6s - loss: 4123.8979 - mean_absolute_error: 25.2125 - accuracy: 0.1817\n",
      "Epoch 94/100\n",
      "69/69 - 6s - loss: 4790.1079 - mean_absolute_error: 25.5141 - accuracy: 0.1607\n",
      "Epoch 95/100\n",
      "69/69 - 7s - loss: 8610.5889 - mean_absolute_error: 32.1642 - accuracy: 0.1776\n",
      "Epoch 96/100\n",
      "69/69 - 6s - loss: 6557.9971 - mean_absolute_error: 28.9946 - accuracy: 0.1785\n",
      "Epoch 97/100\n",
      "69/69 - 6s - loss: 9315.3164 - mean_absolute_error: 34.0518 - accuracy: 0.1699\n",
      "Epoch 98/100\n",
      "69/69 - 6s - loss: 4191.9346 - mean_absolute_error: 24.9677 - accuracy: 0.1662\n",
      "Epoch 99/100\n",
      "69/69 - 6s - loss: 5760.4268 - mean_absolute_error: 28.9470 - accuracy: 0.1626\n",
      "Epoch 100/100\n",
      "69/69 - 6s - loss: 7934.4629 - mean_absolute_error: 29.8635 - accuracy: 0.1699\n"
     ]
    },
    {
     "data": {
      "text/plain": [
       "<tensorflow.python.keras.callbacks.History at 0x7fd184140d50>"
      ]
     },
     "execution_count": 25,
     "metadata": {},
     "output_type": "execute_result"
    }
   ],
   "source": [
    "# define model\n",
    "model = Sequential()\n",
    "model.add(Dense(500, activation='relu', input_dim=n_input)) \n",
    "model.add(Dense(250, activation='relu', input_dim=n_input)) \n",
    "model.add(Dense(n_output))\n",
    "model.compile(optimizer='adam', loss='mse',  metrics=[metrics.mae, 'accuracy'])\n",
    "\n",
    "# fit model\n",
    "model.fit(train_X, train_y, epochs=100, verbose=2)"
   ]
  },
  {
   "cell_type": "code",
   "execution_count": 26,
   "metadata": {},
   "outputs": [
    {
     "name": "stdout",
     "output_type": "stream",
     "text": [
      "731\n",
      "shape  (731, 10824)\n",
      "7912344\n",
      "7912344\n"
     ]
    }
   ],
   "source": [
    "predicted = np.array([])\n",
    "for i in range(len(test_X)):\n",
    "    x_input = test_X[i].reshape((1, n_input))\n",
    "    yhat = model.predict(x_input, verbose=0)\n",
    "    #print(yhat[0])\n",
    "    predicted = np.append(predicted, yhat[0])\n",
    "\n",
    "print(len(test_y))\n",
    "var4diff2 = len(test_y)\n",
    "print('shape ',test_y.shape )\n",
    "exp_y = test_y.reshape((test_y.shape[0] * test_y.shape[1]))    \n",
    "expected = exp_y    \n",
    "print(len(expected))\n",
    "print(len(predicted)) "
   ]
  },
  {
   "cell_type": "code",
   "execution_count": 27,
   "metadata": {},
   "outputs": [
    {
     "name": "stdout",
     "output_type": "stream",
     "text": [
      "Mean Absolute Error =  22.276558013427927\n"
     ]
    },
    {
     "data": {
      "image/png": "[encoded data removed]",
      "text/plain": [
       "<Figure size 1008x144 with 1 Axes>"
      ]
     },
     "metadata": {
      "needs_background": "light"
     },
     "output_type": "display_data"
    }
   ],
   "source": [
    "difference = abs(predicted - expected)\n",
    "print('Mean Absolute Error = ', np.mean(difference))\n",
    "plt.figure(figsize = (14,2))\n",
    "plt.boxplot(difference, vert = False)\n",
    "plt.show()"
   ]
  },
  {
   "cell_type": "code",
   "execution_count": 28,
   "metadata": {},
   "outputs": [
    {
     "name": "stdout",
     "output_type": "stream",
     "text": [
      "10824\n"
     ]
    }
   ],
   "source": [
    "shape_i = final_data.shape[1] * n_steps_out \n",
    "print(shape_i)\n"
   ]
  },
  {
   "cell_type": "code",
   "execution_count": 29,
   "metadata": {},
   "outputs": [
    {
     "name": "stdout",
     "output_type": "stream",
     "text": [
      "(731, 10824)\n"
     ]
    }
   ],
   "source": [
    "difference2 = difference.reshape( var4diff2, shape_i)\n",
    "print(difference2.shape)"
   ]
  },
  {
   "cell_type": "code",
   "execution_count": 30,
   "metadata": {},
   "outputs": [
    {
     "data": {
      "text/plain": [
       "15.307578174458381"
      ]
     },
     "execution_count": 30,
     "metadata": {},
     "output_type": "execute_result"
    }
   ],
   "source": [
    "MAPE = np.mean(abs(100 * (difference/expected)))\n",
    "MAPE"
   ]
  },
  {
   "cell_type": "code",
   "execution_count": null,
   "metadata": {},
   "outputs": [],
   "source": []
  }
 ],
 "metadata": {
  "kernelspec": {
   "display_name": "Python 3",
   "language": "python",
   "name": "python3"
  },
  "language_info": {
   "codemirror_mode": {
    "name": "ipython",
    "version": 3
   },
   "file_extension": ".py",
   "mimetype": "text/x-python",
   "name": "python",
   "nbconvert_exporter": "python",
   "pygments_lexer": "ipython3",
   "version": "3.7.4"
  }
 },
 "nbformat": 4,
 "nbformat_minor": 2
}
