{
 "cells": [
  {
   "cell_type": "code",
   "execution_count": 199,
   "metadata": {},
   "outputs": [],
   "source": [
    "import pandas as pd \n",
    "import numpy as np \n",
    "import matplotlib.pyplot as plt \n",
    "import warnings\n",
    "import datetime\n",
    "import geopandas as gpd\n",
    "import folium\n",
    "import time\n",
    "import my_code\n",
    "warnings.filterwarnings('ignore')\n",
    "from scipy.stats.stats import pearsonr \n",
    "import seaborn as sns\n",
    "\n",
    "data = pd.read_csv('/Users/alket/Desktop/dati/new_data2_Modena_backfill_forwfill.csv',index_col = 0, parse_dates=True)\n",
    "data\n",
    "agg_by_cell = data.groupby(['cell_num'])\n",
    "\n",
    "counter = 0\n",
    "for i, k in agg_by_cell: \n",
    "    print(i, k)\n",
    "    counter += 1\n",
    "    if counter > 1 : break"
   ]
  },
  {
   "cell_type": "code",
   "execution_count": 200,
   "metadata": {},
   "outputs": [
    {
     "data": {
      "text/html": [
       "<div>\n",
       "<style scoped>\n",
       "    .dataframe tbody tr th:only-of-type {\n",
       "        vertical-align: middle;\n",
       "    }\n",
       "\n",
       "    .dataframe tbody tr th {\n",
       "        vertical-align: top;\n",
       "    }\n",
       "\n",
       "    .dataframe thead th {\n",
       "        text-align: right;\n",
       "    }\n",
       "</style>\n",
       "<table border=\"1\" class=\"dataframe\">\n",
       "  <thead>\n",
       "    <tr style=\"text-align: right;\">\n",
       "      <th></th>\n",
       "      <th>date</th>\n",
       "      <th>cell_num</th>\n",
       "      <th>nr_people</th>\n",
       "      <th>hours</th>\n",
       "      <th>minutes</th>\n",
       "    </tr>\n",
       "  </thead>\n",
       "  <tbody>\n",
       "    <tr>\n",
       "      <td>0</td>\n",
       "      <td>2017-04-16</td>\n",
       "      <td>389-1015</td>\n",
       "      <td>361.0</td>\n",
       "      <td>0.0</td>\n",
       "      <td>0.0</td>\n",
       "    </tr>\n",
       "    <tr>\n",
       "      <td>1353</td>\n",
       "      <td>2017-04-16</td>\n",
       "      <td>389-1015</td>\n",
       "      <td>367.0</td>\n",
       "      <td>0.0</td>\n",
       "      <td>15.0</td>\n",
       "    </tr>\n",
       "    <tr>\n",
       "      <td>2706</td>\n",
       "      <td>2017-04-16</td>\n",
       "      <td>389-1015</td>\n",
       "      <td>359.0</td>\n",
       "      <td>0.0</td>\n",
       "      <td>30.0</td>\n",
       "    </tr>\n",
       "    <tr>\n",
       "      <td>4059</td>\n",
       "      <td>2017-04-16</td>\n",
       "      <td>389-1015</td>\n",
       "      <td>354.0</td>\n",
       "      <td>0.0</td>\n",
       "      <td>45.0</td>\n",
       "    </tr>\n",
       "    <tr>\n",
       "      <td>5412</td>\n",
       "      <td>2017-04-16</td>\n",
       "      <td>389-1015</td>\n",
       "      <td>350.0</td>\n",
       "      <td>1.0</td>\n",
       "      <td>0.0</td>\n",
       "    </tr>\n",
       "    <tr>\n",
       "      <td>...</td>\n",
       "      <td>...</td>\n",
       "      <td>...</td>\n",
       "      <td>...</td>\n",
       "      <td>...</td>\n",
       "      <td>...</td>\n",
       "    </tr>\n",
       "    <tr>\n",
       "      <td>15970811</td>\n",
       "      <td>2017-08-16</td>\n",
       "      <td>421-1055</td>\n",
       "      <td>17.0</td>\n",
       "      <td>22.0</td>\n",
       "      <td>45.0</td>\n",
       "    </tr>\n",
       "    <tr>\n",
       "      <td>15972164</td>\n",
       "      <td>2017-08-16</td>\n",
       "      <td>421-1055</td>\n",
       "      <td>17.0</td>\n",
       "      <td>23.0</td>\n",
       "      <td>0.0</td>\n",
       "    </tr>\n",
       "    <tr>\n",
       "      <td>15973517</td>\n",
       "      <td>2017-08-16</td>\n",
       "      <td>421-1055</td>\n",
       "      <td>17.0</td>\n",
       "      <td>23.0</td>\n",
       "      <td>15.0</td>\n",
       "    </tr>\n",
       "    <tr>\n",
       "      <td>15974870</td>\n",
       "      <td>2017-08-16</td>\n",
       "      <td>421-1055</td>\n",
       "      <td>18.0</td>\n",
       "      <td>23.0</td>\n",
       "      <td>30.0</td>\n",
       "    </tr>\n",
       "    <tr>\n",
       "      <td>15976223</td>\n",
       "      <td>2017-08-16</td>\n",
       "      <td>421-1055</td>\n",
       "      <td>18.0</td>\n",
       "      <td>23.0</td>\n",
       "      <td>45.0</td>\n",
       "    </tr>\n",
       "  </tbody>\n",
       "</table>\n",
       "<p>15976224 rows × 5 columns</p>\n",
       "</div>"
      ],
      "text/plain": [
       "                date  cell_num  nr_people  hours  minutes\n",
       "0         2017-04-16  389-1015      361.0    0.0      0.0\n",
       "1353      2017-04-16  389-1015      367.0    0.0     15.0\n",
       "2706      2017-04-16  389-1015      359.0    0.0     30.0\n",
       "4059      2017-04-16  389-1015      354.0    0.0     45.0\n",
       "5412      2017-04-16  389-1015      350.0    1.0      0.0\n",
       "...              ...       ...        ...    ...      ...\n",
       "15970811  2017-08-16  421-1055       17.0   22.0     45.0\n",
       "15972164  2017-08-16  421-1055       17.0   23.0      0.0\n",
       "15973517  2017-08-16  421-1055       17.0   23.0     15.0\n",
       "15974870  2017-08-16  421-1055       18.0   23.0     30.0\n",
       "15976223  2017-08-16  421-1055       18.0   23.0     45.0\n",
       "\n",
       "[15976224 rows x 5 columns]"
      ]
     },
     "execution_count": 200,
     "metadata": {},
     "output_type": "execute_result"
    }
   ],
   "source": []
  },
  {
   "cell_type": "code",
   "execution_count": 201,
   "metadata": {},
   "outputs": [],
   "source": [
    "agg_by_cell = data.groupby(['cell_num'])"
   ]
  },
  {
   "cell_type": "code",
   "execution_count": 202,
   "metadata": {},
   "outputs": [
    {
     "name": "stdout",
     "output_type": "stream",
     "text": [
      "389-1015                 date  cell_num  nr_people  hours  minutes\n",
      "0         2017-04-16  389-1015      361.0    0.0      0.0\n",
      "1353      2017-04-16  389-1015      367.0    0.0     15.0\n",
      "2706      2017-04-16  389-1015      359.0    0.0     30.0\n",
      "4059      2017-04-16  389-1015      354.0    0.0     45.0\n",
      "5412      2017-04-16  389-1015      350.0    1.0      0.0\n",
      "...              ...       ...        ...    ...      ...\n",
      "15969459  2017-08-16  389-1015      269.0   22.0     45.0\n",
      "15970812  2017-08-16  389-1015      268.0   23.0      0.0\n",
      "15972165  2017-08-16  389-1015      271.0   23.0     15.0\n",
      "15973518  2017-08-16  389-1015      266.0   23.0     30.0\n",
      "15974871  2017-08-16  389-1015      266.0   23.0     45.0\n",
      "\n",
      "[11808 rows x 5 columns]\n",
      "389-1016                 date  cell_num  nr_people  hours  minutes\n",
      "1         2017-04-16  389-1016      188.0    0.0      0.0\n",
      "1354      2017-04-16  389-1016      191.0    0.0     15.0\n",
      "2707      2017-04-16  389-1016      186.0    0.0     30.0\n",
      "4060      2017-04-16  389-1016      185.0    0.0     45.0\n",
      "5413      2017-04-16  389-1016      182.0    1.0      0.0\n",
      "...              ...       ...        ...    ...      ...\n",
      "15969460  2017-08-16  389-1016      141.0   22.0     45.0\n",
      "15970813  2017-08-16  389-1016      140.0   23.0      0.0\n",
      "15972166  2017-08-16  389-1016      141.0   23.0     15.0\n",
      "15973519  2017-08-16  389-1016      138.0   23.0     30.0\n",
      "15974872  2017-08-16  389-1016      138.0   23.0     45.0\n",
      "\n",
      "[11808 rows x 5 columns]\n"
     ]
    }
   ],
   "source": [
    "counter = 0\n",
    "for i, k in agg_by_cell: \n",
    "    print(i, k)\n",
    "    counter += 1\n",
    "    if counter > 1 : break"
   ]
  },
  {
   "cell_type": "markdown",
   "metadata": {},
   "source": [
    "### Correlate cells with their adiacents up to 12 cells away "
   ]
  },
  {
   "cell_type": "code",
   "execution_count": 203,
   "metadata": {},
   "outputs": [],
   "source": [
    "def get_corr_adiacent_cells(cell, index):\n",
    "    counter = 0\n",
    "    adiacent_cells = []\n",
    "    s = cell.split('-')\n",
    "    row = int(s[0])\n",
    "    col = int(s[1])\n",
    "    rowup = row+index\n",
    "    rowdown = row-index\n",
    "    coldes = col+index\n",
    "    colsin = col-index\n",
    "    cell1 = str(row)+'-'+str(coldes)\n",
    "    cell2 = str(row)+'-'+str(colsin)\n",
    "    cell3 = str(rowup)+'-'+str(col)\n",
    "    cell4 = str(rowdown)+'-'+str(col)\n",
    "    \n",
    "    cell5 = str(rowup)+'-'+str(coldes)\n",
    "    cell6 = str(rowup)+'-'+str(colsin)\n",
    "    cell7 = str(rowdown)+'-'+str(coldes)\n",
    "    cell8 = str(rowdown)+'-'+str(colsin)\n",
    "    adiacent_cells.extend([cell1, cell2, cell3, cell4, cell5, cell6, cell7, cell8])\n",
    "        \n",
    "    return adiacent_cells"
   ]
  },
  {
   "cell_type": "code",
   "execution_count": 204,
   "metadata": {},
   "outputs": [],
   "source": [
    "cells2be_correlated = ['400-1035', '400-1036', '400-1037', '400-1028', '400-1029', '400-1032',\n",
    "                       '401-1035', '401-1038', '401-1041', '401-1033', '401-1029', '401-1032',\n",
    "                       '402-1043', '402-1039', '402-1033', '402-1035', '402-1037', '402-1031',\n",
    "                       '403-1043', '403-1031', '403-1034', '403-1036', '403-1037', '403-1039',\n",
    "                       '404-1036', '404-1037', '404-1038', '404-1040', '404-1042', '404-1035',\n",
    "                       '409-1036', '409-1037', '409-1038', '409-1040', '409-1042', '409-1035',\n",
    "                       '408-1036', '408-1037', '408-1038', '408-1040', '408-1042', '408-1035',\n",
    "                       '407-1035', '407-1037', '407-1039', '407-1041', '407-1042', '407-1036',\n",
    "                       '405-1031', '405-1032', '405-1034', '405-1036', '405-1038', '405-1042',\n",
    "                       '406-1034', '406-1031', '406-1033', '406-1035', '406-1039', '406-1040']"
   ]
  },
  {
   "cell_type": "code",
   "execution_count": 272,
   "metadata": {
    "scrolled": true
   },
   "outputs": [
    {
     "name": "stdout",
     "output_type": "stream",
     "text": [
      "1 0.9365010010697208\n",
      "2 0.8998973391578862\n",
      "3 0.8577341454024237\n",
      "4 0.8508065806836242\n",
      "5 0.8095217692886448\n",
      "6 0.7989863240272954\n",
      "7 0.8075335442843266\n",
      "8 0.792845845778356\n",
      "9 0.7790602835119875\n",
      "10 0.7736726634924275\n"
     ]
    }
   ],
   "source": [
    "data2dict = {}\n",
    "for num in range(10):\n",
    "    num = num+1\n",
    "    #print('step = ', num)\n",
    "    cell2mean = []\n",
    "    for cell2c in cells2be_correlated:\n",
    "        #try:\n",
    "        adiacent_cells = get_corr_adiacent_cells(cell2c, num)\n",
    "        #except:\n",
    "        #    'KeyError'\n",
    "        corrlist = []\n",
    "        #try: \n",
    "        cell_itself = agg_by_cell.get_group(cell2c)\n",
    "        cell_itself = cell_itself['nr_people'].values\n",
    "        #except: \n",
    "         #   'KeyError'\n",
    "        #corrlist.append(cell_itself['nr_people'].values)\n",
    "        for i in adiacent_cells: \n",
    "           # try: \n",
    "                cell_i = agg_by_cell.get_group(i)\n",
    "                cell_i = cell_i['nr_people'].values\n",
    "                #print(cell_itself[:4])\n",
    "                #print(cell_itself[:1])\n",
    "                #print(len(cell_itself), len(cell_i))\n",
    "                pc = pearsonr(cell_itself, cell_i)\n",
    "                corrlist.append(pc[0])\n",
    "           # except: \n",
    "           #     'KeyError'\n",
    "        #corr = np.array(corrlist)\n",
    "        #corr_matrix = np.corrcoef(corr)\n",
    "        #mean = np.mean(corr_matrix)\n",
    "        #cell2mean.append(mean)\n",
    "    print(num , np.mean(np.array(corrlist)))\n",
    "    data2dict[num] = np.mean(np.array(corrlist))"
   ]
  },
  {
   "cell_type": "code",
   "execution_count": 274,
   "metadata": {},
   "outputs": [
    {
     "data": {
      "image/png": "[encoded data removed]",
      "text/plain": [
       "<Figure size 864x288 with 1 Axes>"
      ]
     },
     "metadata": {
      "needs_background": "light"
     },
     "output_type": "display_data"
    }
   ],
   "source": [
    "keys = data2dict.keys()\n",
    "values = data2dict.values()\n",
    "\n",
    "plt.figure(figsize = (12,4))\n",
    "plt.bar(keys, values)\n",
    "plt.show()"
   ]
  },
  {
   "cell_type": "markdown",
   "metadata": {},
   "source": [
    "### Correlate cells with their adiacents by using their percentage change"
   ]
  },
  {
   "cell_type": "code",
   "execution_count": 275,
   "metadata": {
    "scrolled": false
   },
   "outputs": [
    {
     "name": "stdout",
     "output_type": "stream",
     "text": [
      "1 0.6756696466546996\n",
      "2 0.36123523349789155\n",
      "3 0.22350666378887774\n",
      "4 0.11918011193989245\n",
      "5 0.09442515344772671\n",
      "6 0.09612013085221242\n",
      "7 0.11121933127453835\n",
      "8 0.08513018111333559\n",
      "9 0.07830467439112232\n",
      "10 0.06404104745369825\n"
     ]
    }
   ],
   "source": [
    "data2dict = {}\n",
    "for num in range(10):\n",
    "    num = num+1\n",
    "    #print('step ', num)\n",
    "    for cell2c in cells2be_correlated:\n",
    "        mean2step = []\n",
    "        try:\n",
    "            adiacent_cells = get_corr_adiacent_cells(cell2c, num)\n",
    "        except:\n",
    "            'KeyError'\n",
    "        corrlist = []\n",
    "        try: \n",
    "            cell_itself = agg_by_cell.get_group(cell2c)\n",
    "        except: \n",
    "            'KeyError'\n",
    "        cell_itself = cell_itself['nr_people'].pct_change().values\n",
    "        cell_itself = cell_itself[1:]\n",
    "        #print(len(cell_itself))\n",
    "            #corrlist.append()\n",
    "        for i in adiacent_cells: \n",
    "            #try: \n",
    "                cell_i = agg_by_cell.get_group(i)\n",
    "                cell_i = cell_i['nr_people'].pct_change().values\n",
    "                cell_i = cell_i[1:]\n",
    "                \n",
    "                #print(len(cell_i), len(cell_itself))\n",
    "                \n",
    "                pc = pearsonr(cell_itself, cell_i)\n",
    "                #print(pc[0])\n",
    "                corrlist.append(pc[0])\n",
    "            #except: \n",
    "            #    'KeyError'\n",
    "        #corr = np.array(corrlist)\n",
    "        #corr_matrix = np.corrcoef(corr)\n",
    "        #mean = np.mean(corr_matrix[0])\n",
    "        \n",
    "        #mean2step.append(mean)\n",
    "    print(num, np.mean(np.array(corrlist))) \n",
    "    data2dict[num] = np.mean(np.array(corrlist))"
   ]
  },
  {
   "cell_type": "code",
   "execution_count": 276,
   "metadata": {},
   "outputs": [
    {
     "data": {
      "image/png": "[encoded data removed]",
      "text/plain": [
       "<Figure size 1080x288 with 1 Axes>"
      ]
     },
     "metadata": {
      "needs_background": "light"
     },
     "output_type": "display_data"
    }
   ],
   "source": [
    "keys = data2dict.keys()\n",
    "values = data2dict.values()\n",
    "\n",
    "plt.figure(figsize = (15,4))\n",
    "plt.bar(keys, values)\n",
    "plt.show()"
   ]
  },
  {
   "cell_type": "markdown",
   "metadata": {},
   "source": [
    "### Correlate cells with their lagged adiacents "
   ]
  },
  {
   "cell_type": "code",
   "execution_count": 278,
   "metadata": {
    "scrolled": true
   },
   "outputs": [
    {
     "name": "stdout",
     "output_type": "stream",
     "text": [
      "1 0.9364926357181618\n",
      "2 0.8998825922613689\n",
      "3 0.8577113679167989\n",
      "4 0.8507838063656847\n",
      "5 0.8094907538489685\n",
      "6 0.798952562250407\n",
      "7 0.8075027167638635\n",
      "8 0.7928103306859797\n",
      "9 0.7790214722598059\n",
      "10 0.7736323520205906\n"
     ]
    }
   ],
   "source": [
    "data2dict = {}\n",
    "shifted_index = 1\n",
    "for num in range(10):\n",
    "    num = num+1\n",
    "    #print('step = ', num)\n",
    "    cell2mean = []\n",
    "    for cell2c in cells2be_correlated:\n",
    "        #try:\n",
    "        adiacent_cells = get_corr_adiacent_cells(cell2c, num)\n",
    "        #except:\n",
    "        #    'KeyError'\n",
    "        corrlist = []\n",
    "        #try: \n",
    "        cell_itself = agg_by_cell.get_group(cell2c)\n",
    "        #except: \n",
    "        #    'KeyError'\n",
    "        ci = cell_itself['nr_people'].values \n",
    "        #print(ci[:3])\n",
    "        ci = ci[:len(ci)-shifted_index]\n",
    "        #print(ci[:3])\n",
    "        #print(len(ci))\n",
    "        #corrlist.append(ci)\n",
    "        for i in adiacent_cells: \n",
    "            #try: \n",
    "                cell_i = agg_by_cell.get_group(i)\n",
    "                cell_i = cell_i['nr_people'].shift(shifted_index).values\n",
    "                #print(cell_i[:10])\n",
    "                cell_i = cell_i[shifted_index:]\n",
    "                pc = pearsonr(ci,cell_i)\n",
    "                corrlist.append(pc[0])\n",
    "            #except: \n",
    "            #    'KeyError'\n",
    "        #corr = np.array(corrlist)\n",
    "        #corr_matrix = np.corrcoef(corr)\n",
    "        #mean = np.median(corr_matrix[0])\n",
    "        #cell2mean.append(mean)\n",
    "    print(num , np.mean(np.array(corrlist)))\n",
    "    data2dict[num] = np.mean(np.array(corrlist))"
   ]
  },
  {
   "cell_type": "markdown",
   "metadata": {},
   "source": [
    "### Correlate cells with their lagged adiacents by using percentage change"
   ]
  },
  {
   "cell_type": "code",
   "execution_count": 240,
   "metadata": {},
   "outputs": [
    {
     "name": "stdout",
     "output_type": "stream",
     "text": [
      "1 0.03927236179116417\n",
      "2 0.06029608674338236\n",
      "3 0.07700740517277677\n",
      "4 0.07273749974908224\n",
      "5 0.06377795019861891\n",
      "6 0.06477608346158135\n",
      "7 0.07041313326314207\n",
      "8 0.05596551084730764\n",
      "9 0.050149822158073634\n",
      "10 0.04570275659520481\n"
     ]
    }
   ],
   "source": [
    "data2dict = {}\n",
    "shifted_steps = 1\n",
    "for num in range(10):\n",
    "    num = num+1\n",
    "    #print('step ', num)\n",
    "    for cell2c in cells2be_correlated:\n",
    "        mean2step = []\n",
    "        try:\n",
    "            adiacent_cells = get_corr_adiacent_cells(cell2c, num)\n",
    "        except:\n",
    "            'KeyError'\n",
    "        corrlist = []\n",
    "        try: \n",
    "            cell_itself = agg_by_cell.get_group(cell2c)\n",
    "        except: \n",
    "            'KeyError'\n",
    "        cell_itself = cell_itself['nr_people'].pct_change().values\n",
    "        cell_itself = cell_itself[2:]\n",
    "        cell_itself = cell_itself[:len(cell_itself- shifted_steps)]\n",
    "        #corrlist.append(cell_itself)\n",
    "        for i in adiacent_cells: \n",
    "            try: \n",
    "                cell_i = agg_by_cell.get_group(i)\n",
    "                cell_i = cell_i['nr_people'].shift(shifted_steps).pct_change().values\n",
    "                cell_i = cell_i[shifted_steps+1:]\n",
    "                #print(len(cell_i), len(cell_itself))\n",
    "                pc = pearsonr(cell_itself, cell_i)\n",
    "                corrlist.append(pc[0])\n",
    "            except: \n",
    "                'KeyError'\n",
    "        #corr = np.array(corrlist)\n",
    "        #corr_matrix = np.corrcoef(corr)\n",
    "        #print(corr_matrix[0])\n",
    "        #mean = np.mean(corr_matrix[0])\n",
    "        \n",
    "        #mean2step.append(mean)\n",
    "    print(num, np.mean(np.array(corrlist))) \n",
    "    data2dict[num] = np.mean(np.array(corrlist))"
   ]
  },
  {
   "cell_type": "code",
   "execution_count": 288,
   "metadata": {},
   "outputs": [
    {
     "data": {
      "text/html": [
       "<div>\n",
       "<style scoped>\n",
       "    .dataframe tbody tr th:only-of-type {\n",
       "        vertical-align: middle;\n",
       "    }\n",
       "\n",
       "    .dataframe tbody tr th {\n",
       "        vertical-align: top;\n",
       "    }\n",
       "\n",
       "    .dataframe thead th {\n",
       "        text-align: right;\n",
       "    }\n",
       "</style>\n",
       "<table border=\"1\" class=\"dataframe\">\n",
       "  <thead>\n",
       "    <tr style=\"text-align: right;\">\n",
       "      <th></th>\n",
       "      <th>A</th>\n",
       "      <th>B</th>\n",
       "      <th>C</th>\n",
       "      <th>D</th>\n",
       "      <th>E</th>\n",
       "      <th>F</th>\n",
       "    </tr>\n",
       "  </thead>\n",
       "  <tbody>\n",
       "    <tr>\n",
       "      <td>0</td>\n",
       "      <td>1</td>\n",
       "      <td>3</td>\n",
       "      <td>13</td>\n",
       "      <td>113</td>\n",
       "      <td>33</td>\n",
       "      <td>1113</td>\n",
       "    </tr>\n",
       "    <tr>\n",
       "      <td>1</td>\n",
       "      <td>2</td>\n",
       "      <td>2</td>\n",
       "      <td>12</td>\n",
       "      <td>112</td>\n",
       "      <td>42</td>\n",
       "      <td>112</td>\n",
       "    </tr>\n",
       "    <tr>\n",
       "      <td>2</td>\n",
       "      <td>3</td>\n",
       "      <td>4</td>\n",
       "      <td>14</td>\n",
       "      <td>14</td>\n",
       "      <td>44</td>\n",
       "      <td>14</td>\n",
       "    </tr>\n",
       "    <tr>\n",
       "      <td>3</td>\n",
       "      <td>4</td>\n",
       "      <td>5</td>\n",
       "      <td>15</td>\n",
       "      <td>15</td>\n",
       "      <td>65</td>\n",
       "      <td>15</td>\n",
       "    </tr>\n",
       "    <tr>\n",
       "      <td>4</td>\n",
       "      <td>5</td>\n",
       "      <td>6</td>\n",
       "      <td>16</td>\n",
       "      <td>1116</td>\n",
       "      <td>76</td>\n",
       "      <td>1116</td>\n",
       "    </tr>\n",
       "    <tr>\n",
       "      <td>5</td>\n",
       "      <td>5</td>\n",
       "      <td>7</td>\n",
       "      <td>17</td>\n",
       "      <td>17</td>\n",
       "      <td>87</td>\n",
       "      <td>17</td>\n",
       "    </tr>\n",
       "    <tr>\n",
       "      <td>6</td>\n",
       "      <td>4</td>\n",
       "      <td>8</td>\n",
       "      <td>18</td>\n",
       "      <td>28</td>\n",
       "      <td>98</td>\n",
       "      <td>28</td>\n",
       "    </tr>\n",
       "  </tbody>\n",
       "</table>\n",
       "</div>"
      ],
      "text/plain": [
       "   A  B   C     D   E     F\n",
       "0  1  3  13   113  33  1113\n",
       "1  2  2  12   112  42   112\n",
       "2  3  4  14    14  44    14\n",
       "3  4  5  15    15  65    15\n",
       "4  5  6  16  1116  76  1116\n",
       "5  5  7  17    17  87    17\n",
       "6  4  8  18    28  98    28"
      ]
     },
     "execution_count": 288,
     "metadata": {},
     "output_type": "execute_result"
    }
   ],
   "source": [
    "df1 = pd.DataFrame({'A':[1, 2, 3, 4, 5, 5, 4], 'B':[3, 2, 4, 5, 6, 7, 8], \n",
    "                    'C':[13, 12, 14, 15, 16, 17, 18],'D':[113, 112, 14, 15, 1116, 17, 28],\n",
    "                    'E':[33, 42, 44, 65, 76, 87, 98],'F':[1113, 112, 14, 15, 1116, 17, 28]})\n",
    "df1"
   ]
  },
  {
   "cell_type": "code",
   "execution_count": 301,
   "metadata": {},
   "outputs": [
    {
     "name": "stdout",
     "output_type": "stream",
     "text": [
      "(0.9642857142857142, 0.0004541491691941796)\n",
      "(0.9642857142857142, 0.0004541491691941796)\n",
      "(0.12502505681984893, 0.7894058358160523)\n",
      "(0.9883882139480709, 2.7732847590407933e-05)\n",
      "(-0.3431426314891961, 0.4511443968629552)\n"
     ]
    }
   ],
   "source": [
    "l1 = df1['A'].values\n",
    "l2 = df1['B'].values\n",
    "l3 = df1['C'].values\n",
    "l4 = df1['D'].values\n",
    "l5 = df1['E'].values\n",
    "l6 = df1['F'].values\n",
    "l = [l2, l3, l4, l5, l6]\n",
    "my_list = np.array([1, 2, 3, 4, 5, 6, 7])\n",
    "\n",
    "for i in l: \n",
    "    pc = pearsonr(my_list, i)\n",
    "    print(pc)"
   ]
  },
  {
   "cell_type": "code",
   "execution_count": 325,
   "metadata": {},
   "outputs": [],
   "source": [
    "l1s = df1['A'].shift(1)\n",
    "l2s = df1['B'].shift(1)\n",
    "l3s = df1['C'].shift(1)\n",
    "l4s = df1['D'].shift(1)\n",
    "l5s = df1['E'].shift(1)\n",
    "l6s = df1['F'].shift(1)\n",
    "ls = [l2s, l3s, l4s, l5s, l6s]\n",
    "my_list = pd.Series([1, 2, 3, 4, 5, 6, 7])\n",
    "\n",
    "def crosscorr(datax, datay, lag=0):\n",
    "    \"\"\" Lag-N cross correlation. \n",
    "    Parameters\n",
    "    ----------\n",
    "    lag : int, default 0\n",
    "    datax, datay : pandas.Series objects of equal length\n",
    "\n",
    "    Returns\n",
    "    ----------\n",
    "    crosscorr : float\n",
    "    \"\"\"\n",
    "    return datax.corr(datay.shift(lag))"
   ]
  },
  {
   "cell_type": "code",
   "execution_count": 328,
   "metadata": {},
   "outputs": [],
   "source": [
    "a = crosscorr(my_list, df1['A'], 2)"
   ]
  },
  {
   "cell_type": "code",
   "execution_count": 329,
   "metadata": {},
   "outputs": [
    {
     "data": {
      "text/plain": [
       "0.9999999999999999"
      ]
     },
     "execution_count": 329,
     "metadata": {},
     "output_type": "execute_result"
    }
   ],
   "source": [
    "a"
   ]
  },
  {
   "cell_type": "code",
   "execution_count": null,
   "metadata": {},
   "outputs": [],
   "source": []
  }
 ],
 "metadata": {
  "kernelspec": {
   "display_name": "Python 3",
   "language": "python",
   "name": "python3"
  },
  "language_info": {
   "codemirror_mode": {
    "name": "ipython",
    "version": 3
   },
   "file_extension": ".py",
   "mimetype": "text/x-python",
   "name": "python",
   "nbconvert_exporter": "python",
   "pygments_lexer": "ipython3",
   "version": "3.7.4"
  }
 },
 "nbformat": 4,
 "nbformat_minor": 2
}
